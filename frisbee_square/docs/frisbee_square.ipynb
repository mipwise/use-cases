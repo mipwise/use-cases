{
 "cells": [
  {
   "cell_type": "markdown",
   "metadata": {},
   "source": [
    "## Frisbee Square Formulation"
   ]
  },
  {
   "cell_type": "markdown",
   "metadata": {},
   "source": [
    "### Input Data Model\n",
    "\n",
    "#### Indices\n",
    "- $I$ - Collection of products.\n",
    "- $T$ - Collection of periods $[1, 2, \\ldots]$.\n",
    "\n",
    "#### Parameters\n",
    "- $d_{it}$: Demand (units) of product $i$ in period $t$.\n",
    "- $oi_{i}$: Opening inventory (units) of product $i$.\n",
    "- $pr_{i}$: Production rate (units/hour) of product $i$.\n",
    "- $hc_{t}$: Holding cost (dollars/unit) in period $t$.\n",
    "- $pu_t$: Production capacity (hours) at period $t$.\n",
    "- $pc_i$: Production cost (dollars/unit) of product $i$. "
   ]
  },
  {
   "cell_type": "markdown",
   "metadata": {},
   "source": [
    "### Decision Variables\n",
    "- $x_{it}$: Number of units produced of product $i$ in period $t$.\n",
    "- $y_{it}$: Number of units held in inventory of product $i$ from period $t$ to $t+1$."
   ]
  },
  {
   "cell_type": "markdown",
   "metadata": {},
   "source": [
    "### Constraints\n",
    "\n",
    "- C1) Flow balance:\n",
    "    $$ y_{it} = oi_i + x_{it} - d_{it}, \\quad \\forall i, t = 1 $$\n",
    "    $$ y_{it} = y_{it-1} + x_{it} - d_{it}, \\quad \\forall i, t \\geq 2 $$\n",
    "\n",
    "    By defining $y_{it}$ as non-negative, we already ensure that demand $d_{it}$ is met for every $i$ and $t$.\n",
    "\n",
    "- C2) Production capacity:\n",
    "    $$ \\sum_i \\frac{x_{it}}{pr_i} \\leq pu_t, \\quad \\forall t $$\n",
    "    "
   ]
  },
  {
   "cell_type": "markdown",
   "metadata": {},
   "source": [
    "### Objective\n",
    "The objective is to minimize total cost, which is composed by production and holding costs:\n",
    "- $\\text{production\\_cost}_{it}:= pc_i \\cdot x_{it}$\n",
    "- $\\text{holding\\_cost}_{it}:= hc_t \\cdot y_{it}$\n",
    "$$ \\min \\quad \\sum_{it} \\text{production\\_cost}_{it} + \\text{holding\\_cost}_{it} $$\n"
   ]
  }
 ],
 "metadata": {
  "kernelspec": {
   "display_name": "Python 3 (ipykernel)",
   "language": "python",
   "name": "python3"
  },
  "language_info": {
   "codemirror_mode": {
    "name": "ipython",
    "version": 3
   },
   "file_extension": ".py",
   "mimetype": "text/x-python",
   "name": "python",
   "nbconvert_exporter": "python",
   "pygments_lexer": "ipython3",
   "version": "3.13.5"
  }
 },
 "nbformat": 4,
 "nbformat_minor": 4
}
