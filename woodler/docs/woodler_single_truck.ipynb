{
 "cells": [
  {
   "cell_type": "markdown",
   "metadata": {},
   "source": [
    "# Woodler Formulation - Single Truck\n",
    "The statement of the use case is on Mip Wise's website: [mipwise.com/use-cases/freshly](https://www.mipwise.com/use-cases/woodler).\n",
    "\n",
    "In this Notebook, we formulate a simplified version of the Woodler problem in which there is only one truck (that is assumed to have enough capacity to deliver all orders).\n",
    "\n",
    "### Input Data Model\n",
    "\n",
    "#### Set of indices\n",
    "- $I$ set of sites.\n",
    "\n",
    "#### Parameters\n",
    "* $cv$ variable cost of the truck.\n",
    "* $td_{ij}$ transit distance from site $i$ to $j$.\n",
    "\n",
    "### Decision Variables\n",
    "* $x_{ij}$ equal $1$ if the truck goes from site $i$ to site $j$.\n",
    "\n",
    "### Constraints\n",
    "\n",
    "* Flow balance:\n",
    "$$\\sum_i x_{ih} = \\sum_j x_{hj}, \\quad \\forall h\\in I.$$\n",
    "This constraint says that the number of trucks that arrives at Site $h$ must equal the number of trucks that depart from Site $h$.\n",
    "* Must deliver every order:\n",
    "$$\\sum_{i} x_{ij} = 1, \\quad \\forall j.$$\n",
    "This constraint says that the number of trucks that arrives at Site $j$ is exactly one.\n",
    "\n",
    "### Objective\n",
    "The objective is to minimize the total cost.\n",
    "$$\\sum_{ij} cv \\cdot td_{ij} \\cdot x_{ij}.$$\n",
    "\n",
    "### Final formulation\n",
    "$$\n",
    "\\begin{eqnarray}\n",
    "\\begin{array}{rcl}\n",
    "& \\min & \\sum_{ij} cv \\cdot td_{ij} \\cdot x_{ij}\\\\\n",
    "& \\text{s.t.}& \\sum_i x_{ih} = \\sum_j x_{hj}, \\quad \\forall h\\in I,\\\\\n",
    "&& \\sum_{i} x_{ij} = 1, \\quad \\forall j,\\\\\n",
    "&& x_{ij} \\in \\{0, 1\\}, \\quad \\forall i, j.\n",
    "\\end{array}\n",
    "\\end{eqnarray}\n",
    "$$"
   ]
  },
  {
   "cell_type": "markdown",
   "metadata": {},
   "source": [
    "## Sub-tour Elimination\n",
    "Depending on the data set, solutions from the formulation above migh come with sub-tours. This is specially true when there is an arc between any two nodes.\n",
    "\n",
    "Here is what a solution with sub-tours looks like:\n",
    "$(0 \\rightarrow 4 \\rightarrow 0)$, $(1 \\rightarrow 2 \\rightarrow 3 \\rightarrow 1)$.\n",
    "\n",
    "There are two classic ways to prevent sob-tours. \n",
    "\n",
    "### MTZ Formulation\n",
    "One way to prevent sub-tours is to use the so-called *Miller–Tucker–Zemlin* (MTZ) formulation which consists of adding the following set of constraints to the model above:\n",
    "$$u_i - u_j + 1 \\leq N(1-x_{ij})$$\n",
    "Here, $N$ is the number of sites and $u_i$ is an auxilary integer decision variable that specify the position of Site $i$ in the sequence of stopts. For example, if \n",
    "the solution is $0 \\rightarrow 1 \\rightarrow 3 \\rightarrow 4 \\rightarrow 2 \\rightarrow 0$, then $u_0 = 1, u_1=2, u_3=3, u_4=4, u_2=5$.\n",
    "\n",
    "The problem if this formulation is that it typically doesn't perform well in practice.\n",
    "### DFJ Formulation\n",
    "An alternative way to prevent sub-tours is to use the so-called *Dantzig–Fulkerson–Johnson* (DFJ) formulation which consists of adding one constraint for each potential sub-tour. \n",
    "\n",
    "For example, one way to avoid the sub-tour $0 \\rightarrow 4 \\rightarrow 0$ of the example above, we can add the following constraint to the model:\n",
    "$$x_{04}+x_{40}\\leq 1.$$\n",
    "This constraint says that the truck can go from Site $0$ to Site $4$ or from Site $4$ to Site $0$, but not both.\n",
    "\n",
    "Similarly, to avoid the sub-tour $1 \\rightarrow 2 \\rightarrow 3 \\rightarrow 1$ we can add the following constraint to the model:\n",
    "$$x_{12}+x_{23}+x_{31}\\leq 2.$$\n",
    "This constraint says that at most two out of the three arcs $(1, 2), (2, 3), (3, 1)$, can be used.\n",
    "\n",
    "A generalization of the DFJ constraints goes as follows. Given a strict subset of sites $S$, we add the following constraint to the model:\n",
    "$$\\sum_{(i, j)\\in S}x_{ij} \\leq |S|-1,$$\n",
    "where $|S|$ represents the number of elements of the set $S$.\n",
    "\n",
    "The problem with this approach, as you might guess, is that the number of subsets $S$ can be huge depending on the size of the instance. That's why in practice people typically add these constraints on the fly as needed (using callbacks to be more efficient)."
   ]
  }
 ],
 "metadata": {
  "kernelspec": {
   "display_name": "Python 3 (ipykernel)",
   "language": "python",
   "name": "python3"
  },
  "language_info": {
   "codemirror_mode": {
    "name": "ipython",
    "version": 3
   },
   "file_extension": ".py",
   "mimetype": "text/x-python",
   "name": "python",
   "nbconvert_exporter": "python",
   "pygments_lexer": "ipython3",
   "version": "3.9.5"
  }
 },
 "nbformat": 4,
 "nbformat_minor": 2
}
