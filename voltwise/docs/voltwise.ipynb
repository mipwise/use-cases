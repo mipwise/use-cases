{
 "cells": [
  {
   "cell_type": "markdown",
   "metadata": {},
   "source": [
    "## Voltwise Formulation"
   ]
  },
  {
   "cell_type": "markdown",
   "metadata": {},
   "source": [
    "### Input Data Model\n",
    "\n",
    "#### Indices\n",
    "- $I$ - Collection of tasks.\n",
    "\n",
    "#### Parameters\n",
    "* $r_{i}$ - Regular completion time (days) for task $i$.\n",
    "* $c_{i}$ - Execution cost (dollar/day) of task $i$.\n",
    "* $ce_{i}$ - Expedition cost (dollar/day) of task $i$.\n",
    "* $eu_{i}$ - Expedition upper bound (day) of task $i$.\n",
    "* $p$ - List of $(i, j)$-pairs where task $i$ must be completed before task $j$ starts.\n",
    "* $U$ - Maximum time to complete the project."
   ]
  },
  {
   "cell_type": "markdown",
   "metadata": {},
   "source": [
    "### Decision Variables\n",
    "- $x_{i}$ - Starting time of task $i$.\n",
    "- $y_{i}$ - Total time taken to complete task $i$."
   ]
  },
  {
   "cell_type": "markdown",
   "metadata": {},
   "source": [
    "### Constraints\n",
    "* C1) Task $j$ can only start after Task $i$ is complete:\n",
    "    $$x_i + y_i \\leq x_j, \\quad \\forall i, j \\in p.$$\n",
    "\n",
    "* C2) Maximum time to complete task $i$:\n",
    "    $$y_i \\leq r_i, \\quad \\forall i.$$\n",
    "\n",
    "* C3) Minimum time to complete task $i$:\n",
    "    $$r_i - eu_i \\leq y_i$$\n",
    "\n",
    "* C4) Maximum time to complete the project:\n",
    "    $$x_i + y_i \\leq U, \\quad \\forall i.$$"
   ]
  },
  {
   "cell_type": "markdown",
   "metadata": {},
   "source": [
    "### Objective\n",
    "The objective is to minimize total cost, which is composed by regular cost plus extra cost due to completion delay.\n",
    "\n",
    "$\\text{regular_cost} = \\sum_i c_i y_i.$\n",
    "\n",
    "$\\text{expedition_cost} = \\sum_i ce_i (r_i-y_i).$\n",
    "$$\\min{ \\ \\text{regular_cost} + \\text{expedition_cost}}.$$"
   ]
  },
  {
   "cell_type": "markdown",
   "metadata": {},
   "source": [
    "### Final formulation\n",
    "$$\n",
    "\\begin{eqnarray}\n",
    "\\begin{array}{rcl}\n",
    "& \\min & \\sum_i c_i y_i + \\sum_i ce_i (r_i-y_i)\\\\\n",
    "& \\text{s.t.}& x_i + y_i \\leq x_j, \\quad \\forall i, j \\in p,\\\\\n",
    "&& y_i \\leq r_i, \\quad \\forall i,\\\\\n",
    "&& r_i - eu_i \\leq y_i, \\quad \\forall i,\\\\\n",
    "&& x_i + y_i \\leq U, \\quad \\forall i,\\\\\n",
    "&& x_i, y_i, z_i \\geq 0, \\quad \\forall i.\n",
    "\\end{array}\n",
    "\\end{eqnarray}\n",
    "$$"
   ]
  }
 ],
 "metadata": {
  "kernelspec": {
   "display_name": "Python 3 (ipykernel)",
   "language": "python",
   "name": "python3"
  },
  "language_info": {
   "codemirror_mode": {
    "name": "ipython",
    "version": 3
   },
   "file_extension": ".py",
   "mimetype": "text/x-python",
   "name": "python",
   "nbconvert_exporter": "python",
   "pygments_lexer": "ipython3",
   "version": "3.9.5"
  }
 },
 "nbformat": 4,
 "nbformat_minor": 2
}
