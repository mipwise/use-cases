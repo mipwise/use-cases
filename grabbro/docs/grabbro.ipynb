{
 "cells": [
  {
   "cell_type": "markdown",
   "metadata": {},
   "source": [
    "# GrabBro Formulation\n",
    "\n",
    "The statement of the use case is on Mip Wise's website: \n",
    "[mipwise.com/use-cases/grabbro](https://www.mipwise.com/use-cases/grabbro).\n",
    "\n",
    "**NOTE: We intentionally left this formulation incomplete to promote the practice.**"
   ]
  },
  {
   "cell_type": "markdown",
   "metadata": {},
   "source": [
    "### Input Data Model\n",
    "\n",
    "#### Set of indices\n",
    "- $I$ - Set of locations ($i$ and $j$ for gorcery shops and $H$ for the hotel).\n",
    "- $K$ - Set of grocery items.\n",
    "\n",
    "#### Parameters\n",
    "* $p_{ik}$ - Cost of item $k$ in shop $i$.\n",
    "* $c_{ij}$ - Transit cost between location $i$ and $j$."
   ]
  },
  {
   "cell_type": "markdown",
   "metadata": {},
   "source": [
    "### Decision Variables\n",
    "- $x_{ij}$ - Equals $1$ if driver goes from location $i$ to location $j$, $0$ otherwise.\n",
    "- $y_{ik}$ - Equals $1$ if Item $k$ is bought from Shop $i$, $0$ otherwise."
   ]
  },
  {
   "cell_type": "markdown",
   "metadata": {},
   "source": [
    "### Constraints\n",
    "* C1) Driver departs from the hotel:\n",
    "$$\\sum_j x_{Hj} = 1.$$\n",
    "\n",
    "* C2) Driver must return to the hotel:\n",
    "$$\\sum_i x_{iH} = 1.$$\n",
    "\n",
    "* C3) Flow balance constraint for each location:\n",
    "$$\\sum_i x_{il} = \\sum_j x_{lj}, \\quad \\forall l \\in I.$$\n",
    "\n",
    "* C4) Must pick all items:\n",
    "$$\\text{TODO}.$$\n",
    "\n",
    "* C5) If pick Item $k$ from Shop $i$, then must visit Shop $j$:\n",
    "$$\\text{TODO}.$$"
   ]
  },
  {
   "cell_type": "markdown",
   "metadata": {},
   "source": [
    "### Objective\n",
    "The objective is to minimize the total purchasing and travel cost.\n",
    "\n",
    "$\\text{purchasing_cost} = \\text{TODO}.$\n",
    "\n",
    "$\\text{transit_cost} = \\sum_{ij}c_{ij} x_{ij}.$\n",
    "\n",
    "$$\\min{\\text{purchasing_cost} + \\text{transit_cost}}.$$"
   ]
  }
 ],
 "metadata": {
  "kernelspec": {
   "display_name": "Python 3 (ipykernel)",
   "language": "python",
   "name": "python3"
  },
  "language_info": {
   "codemirror_mode": {
    "name": "ipython",
    "version": 3
   },
   "file_extension": ".py",
   "mimetype": "text/x-python",
   "name": "python",
   "nbconvert_exporter": "python",
   "pygments_lexer": "ipython3",
   "version": "3.9.5"
  }
 },
 "nbformat": 4,
 "nbformat_minor": 2
}
