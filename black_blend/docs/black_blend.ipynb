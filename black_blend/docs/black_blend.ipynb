{
 "cells": [
  {
   "cell_type": "markdown",
   "metadata": {},
   "source": [
    "# Black Blend Formulation\n",
    "The statement of the use case is on Mip Wise's website: \n",
    "[mipwise.com/use-cases/black-blend](https://www.mipwise.com/use-cases/black-blend).\n",
    "\n",
    "The following diagram summarizes the data of the problem.\n",
    "\n",
    "![Black Blend Flow](black_blend.png)"
   ]
  },
  {
   "cell_type": "markdown",
   "metadata": {},
   "source": [
    "### Decision Variables\n",
    "- $x_{ij}$\t- Amount of raw grain procured from supplier $i=1, 2, 3$ to be processed at facility $j=1, 2$."
   ]
  },
  {
   "cell_type": "markdown",
   "metadata": {},
   "source": [
    "### Constraints\n",
    "* Capacity of Supplier $1$:\n",
    "$$\n",
    "x_{11} + x_{12} \\leq 1000.\n",
    "$$\n",
    "* Capacity of Supplier $2$:\n",
    "$$\n",
    "x_{21} + x_{22} \\leq 3000.\n",
    "$$\n",
    "* Capacity of Supplier $3$:\n",
    "$$\n",
    "x_{31} + x_{32} \\leq 2000.\n",
    "$$\n",
    "* Capacity of Facility $1$:\n",
    "$$\n",
    "x_{11} + x_{21} + x_{31} \\leq 2500.\n",
    "$$\n",
    "* Capacity of Facility $2$:\n",
    "$$\n",
    "x_{12} + x_{22} + x_{32} \\leq 3000.\n",
    "$$"
   ]
  },
  {
   "cell_type": "markdown",
   "metadata": {},
   "source": [
    "### Objective\n",
    "Observe that revenue, procurement cost, and processing cost are given by the following expressions:\n",
    "\\begin{align*}\n",
    "revenue &= 0.8\\cdot 25\\cdot (x_{11} + x_{12} + x_{21} + x_{22} + x_{31}  + x_{32})\\\\\n",
    "procurementCost &= 6\\cdot (x_{11} + x_{12}) + 7\\cdot (x_{21} + x_{22}) + 5\\cdot (x_{31} + x_{32})\\\\\n",
    "processingCost &= 10 \\cdot (x_{11} + x_{21} + x_{31}) + 12 \\cdot (x_{12} + x_{22} + x_{32})\n",
    "\\end{align*}\n",
    "Since the objective is to maximize the total profit, we have:\n",
    "$$\\max{revenue - procurementCost - processingCost}.$$"
   ]
  },
  {
   "cell_type": "markdown",
   "metadata": {},
   "source": [
    "### Final formulation\n",
    "$$\n",
    "\\begin{eqnarray}\n",
    "\\begin{array}{rcl}\n",
    "& \\max & 4x_{11} + 2x_{12} + 3x_{21} + x_{22} + 5x_{31}  + 3x_{32}\\\\\n",
    "& \\text{s.t.}& x_{11} + x_{12} \\leq 1000,\\\\\n",
    "&& x_{21} + x_{22} \\leq 3000,\\\\\n",
    "&& x_{31} + x_{32} \\leq 2000,\\\\\n",
    "&& x_{11} + x_{21} + x_{31} \\leq 2500,\\\\\n",
    "&& x_{12} + x_{22} + x_{32} \\leq 3000,\\\\\n",
    "&& x_{11}, x_{21}, x_{31}, x_{12}, x_{22}, x_{32} \\geq 0.\n",
    "\\end{array}\n",
    "\\end{eqnarray}\n",
    "$$"
   ]
  }
 ],
 "metadata": {
  "kernelspec": {
   "display_name": "Python 3 (ipykernel)",
   "language": "python",
   "name": "python3"
  },
  "language_info": {
   "codemirror_mode": {
    "name": "ipython",
    "version": 3
   },
   "file_extension": ".py",
   "mimetype": "text/x-python",
   "name": "python",
   "nbconvert_exporter": "python",
   "pygments_lexer": "ipython3",
   "version": "3.9.5"
  }
 },
 "nbformat": 4,
 "nbformat_minor": 4
}
