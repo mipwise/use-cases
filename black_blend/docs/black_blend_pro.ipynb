{
 "cells": [
  {
   "cell_type": "markdown",
   "metadata": {},
   "source": [
    "# Black Blend Formulation\n",
    "The statement of the use case is on Mip Wise's website: \n",
    "[mipwise.com/use-cases/black-blend](https://www.mipwise.com/use-cases/black-blend).\n",
    "\n",
    "The following diagram summarizes the data of the problem.\n",
    "\n",
    "![Black Blend Flow](black_blend.png)"
   ]
  },
  {
   "cell_type": "markdown",
   "metadata": {},
   "source": [
    "### Input Data Model\n",
    "\n",
    "#### Set of indices\n",
    "- $I$ - Set of suppliers.\n",
    "- $J$ - Set of facilities.\n",
    "\n",
    "#### Parameters\n",
    "* $sp_i$ - Price (dollar/Kg) of raw coffee grains at Supplier $i$.\n",
    "* $su_i$ - Supply upper bound (Kg/week) from Supplier $i$.\n",
    "* $pc_j$ - Processing cost (dollar/Kg) at Facility $j$.\n",
    "* $pu_i$ - Processing upper bound (Kg/week) of Facility $j$.\n",
    "* $p$ - Price of roasted coffee grains at the market.\n",
    "* $r$ - Ratio or roasted to raw grain."
   ]
  },
  {
   "cell_type": "markdown",
   "metadata": {},
   "source": [
    "### Decision Variables\n",
    "\n",
    "- $x_{ij}$\t- Amount of raw grain procured from supplier $i$ to be processed at facility $j$."
   ]
  },
  {
   "cell_type": "markdown",
   "metadata": {},
   "source": [
    "### Constraints\n",
    "* Capacity of Supplier $i$:\n",
    "$$\n",
    "\\sum_j x_{ij} \\leq su_i, \\quad \\forall i.\n",
    "$$\n",
    "* Capacity of Facility $j$:\n",
    "$$\n",
    "\\sum_i x_{ij} \\leq pu_j, \\quad \\forall j.\n",
    "$$"
   ]
  },
  {
   "cell_type": "markdown",
   "metadata": {},
   "source": [
    "### Objective\n",
    "The objective is to maximize the total profit.\n",
    "$$\\max{\\sum_{ij} r\\cdot p\\cdot x_{ij} - \\sum_{ij} sp_i\\cdot x_{ij} - \\sum_{ij} pc_j\\cdot x_{ij}}.$$"
   ]
  },
  {
   "cell_type": "markdown",
   "metadata": {},
   "source": [
    "### Final formulation\n",
    "$$\n",
    "\\begin{eqnarray}\n",
    "\\begin{array}{rcl}\n",
    "& \\max & \\sum_{ij} r\\cdot p\\cdot x_{ij} - \\sum_{ij} sp_i\\cdot x_{ij} - \\sum_{ij} pc_j\\cdot x_{ij}\\\\\n",
    "& \\text{s.t.}& \\sum_j x_{ij} \\leq su_i, \\quad \\forall i,\\\\\n",
    "&& \\sum_i x_{ij} \\leq pu_j, \\quad \\forall j,\\\\\n",
    "&& x_{ij} \\geq 0, \\quad \\forall i, j.\n",
    "\\end{array}\n",
    "\\end{eqnarray}\n",
    "$$"
   ]
  }
 ],
 "metadata": {
  "kernelspec": {
   "display_name": "Python 3 (ipykernel)",
   "language": "python",
   "name": "python3"
  },
  "language_info": {
   "codemirror_mode": {
    "name": "ipython",
    "version": 3
   },
   "file_extension": ".py",
   "mimetype": "text/x-python",
   "name": "python",
   "nbconvert_exporter": "python",
   "pygments_lexer": "ipython3",
   "version": "3.9.5"
  }
 },
 "nbformat": 4,
 "nbformat_minor": 4
}
