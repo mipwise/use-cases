{
 "cells": [
  {
   "cell_type": "markdown",
   "metadata": {},
   "source": [
    "# Pastesian Formulation\n",
    "The statement of the use case is on Mip Wise's website: \n",
    "[mipwise.com/use-cases/pastesian](https://www.mipwise.com/use-cases/pastesian)."
   ]
  },
  {
   "cell_type": "markdown",
   "metadata": {},
   "source": [
    "## Formulation"
   ]
  },
  {
   "cell_type": "markdown",
   "metadata": {},
   "source": [
    "### Decision Variables\n",
    "The image below illustrates the flow of lasagnas through\n",
    "time.\n",
    "\n",
    "![Pastesian Flow](pastesian_flow.png)\n",
    "\n",
    "In particular, this chart suggests that the decision variables we need to define are the amounts to be produced\n",
    "in each month, and the amounts of inventory to carry over from one month to the next:\n",
    "- $x_1$\t- Number of lasagnas to be produced in month 1.\n",
    "- $x_2$\t- Number of lasagnas to be produced in month 2.\n",
    "- $x_3$\t- Number of lasagnas to be produced in month 3.\n",
    "- $x_4$\t- Number of lasagnas to be produced in month 4.\n",
    "- $s_1$\t- Number of lasagnas stored from month 1 to month 2.\n",
    "- $s_2$\t- Number of lasagnas stored from month 2 to month 3.\n",
    "- $s_3$\t- Number of lasagnas stored from month 3 to month 4."
   ]
  },
  {
   "cell_type": "markdown",
   "metadata": {},
   "source": [
    "### Constraints\n",
    "* Flow balance constraint for month 1:\n",
    "$$50 + x_1 = 200 + s_1.$$\n",
    "\n",
    "* Flow balance constraint for month 2:\n",
    "$$s_1 + x_2 = 350 + s_2.$$\n",
    "\n",
    "* Flow balance constraint for month 3:\n",
    "$$s_2 + x_3 = 150 + s_3.$$\n",
    "\n",
    "* Flow balance constraint for month 4:\n",
    "$$s_3 + x_4 = 250.$$"
   ]
  },
  {
   "cell_type": "markdown",
   "metadata": {},
   "source": [
    "### Objective\n",
    "The objective is to minimize the total production and inventory cost.\n",
    "$$\\min{5.50 x_1 + 7.20 x_2 + 8.80 x_3 + 10.90 x_4 + 1.30 s_1 + 1.95 s_2 + 2.20 s_3}.$$"
   ]
  },
  {
   "cell_type": "markdown",
   "metadata": {},
   "source": [
    "### Final formulation\n",
    "$$\n",
    "\\begin{eqnarray}\n",
    "\\begin{array}{rcl}\n",
    "& \\min & 5.50 x_1 + 7.20 x_2 + 8.80 x_3 + 10.90 x_4 + 1.30 s_1 + 1.95 s_2 + 2.20 s_3\\\\\n",
    "& \\text{s.t.}& 50 + x_1 = 200 + s_1,\\\\\n",
    "&& s_1 + x_2 = 350 + s_2,\\\\\n",
    "&& s_2 + x_3 = 150 + s_3,\\\\\n",
    "&& s_3 + x_4 = 250,\\\\\n",
    "&& x_1, x_2, x_3, x_4, s_1, s_2, s_3 \\geq 0.\n",
    "\\end{array}\n",
    "\\end{eqnarray}\n",
    "$$"
   ]
  },
  {
   "cell_type": "markdown",
   "metadata": {},
   "source": [
    "## Additional complexities\n",
    "\n",
    "### New decision variables\n",
    "- $y_t$\t- Number of lasagnas to be produced beyond the regular capacity in month t.\n",
    "\n",
    "### New constraints\n",
    "* Storage capacity:\n",
    "$$\n",
    "s_t \\leq 200, \\quad t=1, 2, 3, 4.\n",
    "$$\n",
    "* Procution capacity:\n",
    "$$\n",
    "x_t \\leq 400, \\quad t=1, 2, 3, 4.\n",
    "$$\n",
    "* Number of lasagnas produced beyond the regular capacity in month $t=1, 2, 3, 4$:\n",
    "$$\n",
    "x_t - 300 \\leq y_t.\n",
    "$$\n",
    "\n",
    "### Upadated objective function\n",
    "$$\\min{5.50 x_1 + 7.20 x_2 + 8.80 x_3 + 10.90 x_4 + 1.30 s_1 + 1.95 s_2 + 2.20 s_3 + 0.35(y_1 + y_2, + y_3 + y_4)}.$$"
   ]
  }
 ],
 "metadata": {
  "kernelspec": {
   "display_name": "Python 3 (ipykernel)",
   "language": "python",
   "name": "python3"
  },
  "language_info": {
   "codemirror_mode": {
    "name": "ipython",
    "version": 3
   },
   "file_extension": ".py",
   "mimetype": "text/x-python",
   "name": "python",
   "nbconvert_exporter": "python",
   "pygments_lexer": "ipython3",
   "version": "3.9.5"
  }
 },
 "nbformat": 4,
 "nbformat_minor": 2
}
