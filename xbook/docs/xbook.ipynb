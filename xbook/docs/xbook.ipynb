{
 "cells": [
  {
   "cell_type": "markdown",
   "metadata": {},
   "source": [
    "# Xbook Formulation"
   ]
  },
  {
   "cell_type": "markdown",
   "metadata": {},
   "source": [
    "## Input Data Model\n",
    "\n",
    "### Set of indices\n",
    "- $I$: Set of facilities.\n",
    "- $J$: Set of stores.\n",
    "\n",
    "### Parameters\n",
    "* $su_i$: Storage upper bound (units) of Facility $i$.\n",
    "* $sc_i$: Setup cost (dollars) of Facility $i$.\n",
    "* $d_{j}$: Demand (units) of from Store $j$.\n",
    "* $tc_{ij}$: Transportation cost (dollars/unit) from Facility $i$ to Store $j$.\n"
   ]
  },
  {
   "cell_type": "markdown",
   "metadata": {},
   "source": [
    "### Decision Variables\n",
    "- $x_{ij}$: number of units delivered from facility $i$ to store $j$.\n",
    "- $y_i$: $1$ if facility $i$ is operating; $0$ otherwise."
   ]
  },
  {
   "cell_type": "markdown",
   "metadata": {},
   "source": [
    "### Constraints\n",
    "- C1) Each facility can only deliver if it's operating:\n",
    "    $$ x_{ij} \\leq \\min\\{su_i, \\; d_j\\} \\cdot y_i, \\quad \\forall i \\in I, \\; \\forall j \\in J $$\n",
    "\n",
    "- C2) Storage capacity of each facility:\n",
    "    $$ \\sum_j x_{ij} \\leq su_i, \\quad \\forall i \\in I $$\n",
    "\n",
    "- C3) Demand must be satisfied:\n",
    "    $$ \\sum_i x_{ij} = d_j, \\quad \\forall j \\in J $$"
   ]
  },
  {
   "cell_type": "markdown",
   "metadata": {},
   "source": [
    "### Objective\n",
    "The objective is to minimize the total transportation and setup cost.\n",
    "$\\text{transport\\_cost} = \\sum\\limits_{ij} tc_{ij} \\cdot x_{ij}$  \n",
    "$\\text{setup\\_cost} = \\sum\\limits_{i} sc_i \\cdot y_i$\n",
    "\n",
    "$$ \\min \\qquad \\text{transport\\_cost} + \\text{setup\\_cost} $$"
   ]
  },
  {
   "cell_type": "markdown",
   "metadata": {},
   "source": [
    "## Complexity: Single Sourcing\n",
    "The solution from the base model may recommend some stores to be served from more than one facility. But that might add undesirable complexities to operations. Therefore, in this section, we extend the base model to allow the business user to decide whether multiple sourcing is allowed or single sourcing must be enforced.\n",
    "\n",
    "### Extra Decision Variables\n",
    "- $z_{ij}$: $1$ if facility $i$ serves store $j$; $0$ otherwise.\n",
    "\n",
    "### Extra Constraints\n",
    "- SC1) Units flow on an arc if, and only if, the facility serves the store:\n",
    "    $$ x_{ij} \\leq \\min\\{su_i, \\; d_j\\} \\cdot z_{ij}, \\quad \\forall i \\in I, \\; \\forall j \\in J $$\n",
    "\n",
    "- SC2) At most one facility must serve each store:\n",
    "    $$ \\sum_i z_{ij} \\leq 1, \\quad \\forall j \\in J $$"
   ]
  },
  {
   "cell_type": "markdown",
   "metadata": {},
   "source": [
    "## Complexity: Lane Min Flow\n",
    "The solution from the base model may recomment some stores to be served from more than one facility with unreasonable volume from some of those facilities. Therefore, we are adding an option to specify the minimum flow on any lane as a percentage of the demand of the destination site.\n",
    "\n",
    "### Extra Parameters\n",
    "- $fl_{ij}$: flow lower bound on arc $(i, j)$.\n",
    "\n",
    "### Extra Decision Variables\n",
    "- $z_{ij}$: $1$ if facility $i$ serves store $j$; $0$ otherwise.\n",
    "\n",
    "### Extra Constraints\n",
    "- LMF1) Units flow on an arc if, and only if, the facility serves the store:\n",
    "    $$ x_{ij} \\leq \\min\\{su_i, \\; d_j\\} \\cdot z_{ij}, \\quad \\forall i \\in I, \\; \\forall j \\in J $$\n",
    "\n",
    "    This is the same as constraint SC1.\n",
    "\n",
    "- LMF2) Lane Min Flow:\n",
    "    $$ fl_{ij} \\cdot z_{ij} \\leq x_{ij}, \\quad \\forall i \\in I, \\; \\forall j \\in J$$"
   ]
  }
 ],
 "metadata": {
  "kernelspec": {
   "display_name": "Python 3 (ipykernel)",
   "language": "python",
   "name": "python3"
  },
  "language_info": {
   "codemirror_mode": {
    "name": "ipython",
    "version": 3
   },
   "file_extension": ".py",
   "mimetype": "text/x-python",
   "name": "python",
   "nbconvert_exporter": "python",
   "pygments_lexer": "ipython3",
   "version": "3.13.5"
  }
 },
 "nbformat": 4,
 "nbformat_minor": 4
}
