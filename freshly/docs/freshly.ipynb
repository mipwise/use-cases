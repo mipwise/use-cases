{
 "cells": [
  {
   "cell_type": "markdown",
   "metadata": {},
   "source": [
    "# Freshly Formulation\n",
    "\n",
    "The statement of the use case is on Mip Wise's website: \n",
    "[mipwise.com/use-cases/freshly](https://www.mipwise.com/use-cases/freshly)."
   ]
  },
  {
   "cell_type": "markdown",
   "metadata": {},
   "source": [
    "### Decision Variables\n",
    "- $x_1$\t- Number of coconuts processed daily.\n",
    "- $x_2$\t- Kilograms of oranges processed daily."
   ]
  },
  {
   "cell_type": "markdown",
   "metadata": {},
   "source": [
    "### Constraints\n",
    "\n",
    "* Extraction capacity (in seconds):\n",
    "$$54x_1+30x_2 \\leq 3\\cdot 60 \\cdot 60.$$\n",
    "* Packing capacity (liters):\n",
    "$$0.450 x_1 + 0.520 x_2 \\leq \\frac{100}{2}.$$\n",
    "* Minimum number of orange bottles:\n",
    "$$0.520 x_2 \\geq \\frac{30}{2}.$$"
   ]
  },
  {
   "cell_type": "markdown",
   "metadata": {},
   "source": [
    "### Objective\n",
    "The objective of this problem is to maximize total profit:\n",
    "\n",
    "$$\\max{0.3825 x_1 + 0.4056 x_2}.$$"
   ]
  },
  {
   "cell_type": "markdown",
   "metadata": {},
   "source": [
    "### Final Formulation\n",
    "Putting all together, Mr. Mip arrived at the following formulation.\n",
    "$$\n",
    "\\begin{align*}\n",
    "\\max \\; & 0.3825 x_1 + 0.4056 x_2\\\\\n",
    "\\text{s.t.} \\; & 54x_1 + 30x_2 \\leq 10800,\\\\\n",
    "& 0.450 x_1 + 0.520 x_2 \\leq 50,\\\\\n",
    "& 0.520 x_2 \\geq 15,\\\\\n",
    "& x_1, x_2 \\geq 0.\n",
    "\\end{align*}\n",
    "$$"
   ]
  }
 ],
 "metadata": {
  "kernelspec": {
   "display_name": "Python 3 (ipykernel)",
   "language": "python",
   "name": "python3"
  },
  "language_info": {
   "codemirror_mode": {
    "name": "ipython",
    "version": 3
   },
   "file_extension": ".py",
   "mimetype": "text/x-python",
   "name": "python",
   "nbconvert_exporter": "python",
   "pygments_lexer": "ipython3",
   "version": "3.9.5"
  }
 },
 "nbformat": 4,
 "nbformat_minor": 4
}
