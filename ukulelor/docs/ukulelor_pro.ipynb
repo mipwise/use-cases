{
 "cells": [
  {
   "cell_type": "markdown",
   "metadata": {},
   "source": [
    "# Ukulelor Formulation\n",
    "*Author(s): Aster Santana*   \n",
    "*Sep, 2022*.\n",
    "\n",
    "The statement of the use case is on Mip Wise's website: \n",
    "[www.mipwise.com/use-cases/ukulelor](https://www.mipwise.com/use-cases/ukulelor).\n",
    "\n",
    "For a beginner-friendly formulation, see [ukulelor.ipynb](https://github.com/mipwise/use-cases/blob/main/ukulelor/docs/ukulelor.ipynb)."
   ]
  },
  {
   "cell_type": "markdown",
   "metadata": {},
   "source": [
    "### Input Data Model\n",
    "\n",
    "#### Indices\n",
    "- $I$: Collection of retailers.\n",
    "\n",
    "#### Parameters\n",
    "* $pu$: Production upper bound (units), i.e., production capacity of the factory.\n",
    "* $sl$: Shipment lower bound (units), i.e., minimum shipment quantity to avoid penalty.\n",
    "* $pn$: Penalty (num. of units) paid for each order that has less than $S$ ukuleles shipped.\n",
    "* $p_{i}$: Unit price at which ukuleles are sold to retailer $i$.\n",
    "* $d_{i}$: Demand (units) of ukuleles from retailer $i$."
   ]
  },
  {
   "cell_type": "markdown",
   "metadata": {},
   "source": [
    "### Decision Variables\n",
    "- $x_{i}$: The number of ukuleles shipped to retailer $i$.\n",
    "- $z_{i}$: Equals $1$ if Ted ships to retailer $i$, $0$ otherwise."
   ]
  },
  {
   "cell_type": "markdown",
   "metadata": {},
   "source": [
    "### Constraints\n",
    "* C1) Production capacity:\n",
    "    $$\\sum_i x_{i} \\leq pu.$$\n",
    "\n",
    "* C2) If ship to retailer $i$, then ship at least $50$:\n",
    "    $$sl \\cdot z_{i} \\leq x_i, \\quad \\forall i.$$\n",
    "\n",
    "* C3) If no shipping to retailer $i$, then $x_i=0$:\n",
    "    $$x_i \\leq d_i \\cdot z_i, \\quad \\forall i.$$"
   ]
  },
  {
   "cell_type": "markdown",
   "metadata": {},
   "source": [
    "### Objective\n",
    "The objective is to maximize total profit, which is total revenue minus penalty.\n",
    "\n",
    "$\\text{revenue} = \\sum_i p_i \\cdot x_i.$\n",
    "\n",
    "$\\text{penalty} = \\sum_i pn \\cdot p_i \\cdot (1-z_i).$\n",
    "\n",
    "$$\\max{ \\ \\text{revenue} - \\text{penalty}}.$$"
   ]
  },
  {
   "cell_type": "markdown",
   "metadata": {},
   "source": [
    "### Final Formulation\n",
    "Putting everything together, we obtain:\n",
    "$$\n",
    "\\begin{eqnarray}\n",
    "\\begin{array}{rcl}\n",
    "& \\max & \\sum_i p_i \\cdot x_i - \\sum_i pn \\cdot p_i \\cdot (1-z_i)\\\\\n",
    "& \\text{s.t.}& \\sum_i x_{i} \\leq pu,\\\\\n",
    "&& sl \\cdot z_{i} \\leq x_i, \\quad \\forall i,\\\\\n",
    "&& x_i \\leq d_i \\cdot z_i, \\quad \\forall i,\\\\\n",
    "&& x_{i} \\geq 0, z_i \\in \\{0, 1\\} \\quad \\forall i.\n",
    "\\end{array}\n",
    "\\end{eqnarray}\n",
    "$$"
   ]
  }
 ],
 "metadata": {
  "kernelspec": {
   "display_name": "Python 3 (ipykernel)",
   "language": "python",
   "name": "python3"
  },
  "language_info": {
   "codemirror_mode": {
    "name": "ipython",
    "version": 3
   },
   "file_extension": ".py",
   "mimetype": "text/x-python",
   "name": "python",
   "nbconvert_exporter": "python",
   "pygments_lexer": "ipython3",
   "version": "3.9.12"
  }
 },
 "nbformat": 4,
 "nbformat_minor": 2
}
