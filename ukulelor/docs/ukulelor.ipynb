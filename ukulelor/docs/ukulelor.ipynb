{
 "cells": [
  {
   "cell_type": "markdown",
   "metadata": {},
   "source": [
    "# Ukulelor Formulation\n",
    "*Author(s): Aster Santana*   \n",
    "*Sep, 2022*.\n",
    "\n",
    "The statement of the use case is on Mip Wise's website: \n",
    "[www.mipwise.com/use-cases/ukulelor](https://www.mipwise.com/use-cases/ukulelor).\n",
    "\n",
    "This formulation is not generic in the sense that it uses the given data explicitly. For a data agnostic model, see [ukulelor_pro.ipynb](https://github.com/mipwise/use-cases/blob/main/ukulelor/docs/ukulelor_pro.ipynb)."
   ]
  },
  {
   "cell_type": "markdown",
   "metadata": {},
   "source": [
    "### Input Data Model"
   ]
  },
  {
   "cell_type": "markdown",
   "metadata": {},
   "source": [
    "### Decision Variables\n",
    "- $x_{i}$: The number of ukuleles shipped to retailer $i$, for all $i=R1, R2, \\cdots, R7$.\n",
    "- $z_{i}$: Equals $1$ if Ted ships to retailer $i$, $0$ otherwise, for all $i=R1, R2, \\cdots, R7$.\n",
    "\n",
    "Notice that $x_i$ are integer variables while $z_i$ are binary variables (they can only take 0-1 values). We can't define $x_i$ as continuous variables since shiping $50.3$ ukuleles, for instance, wouldn't make sense.\n",
    "\n",
    "To simplify notation, let’s write $x_1, x_2, \\cdots, x_7$ instead of $x_{R1}, x_{R2}, \\cdots, x_{R7}$ when writing constraints and the objective function. Similarly, let’s write $z_1, z_2, \\cdots, z_7$ instead of $z_{R1}, z_{R2}, \\cdots, z_{R7}$."
   ]
  },
  {
   "cell_type": "markdown",
   "metadata": {},
   "source": [
    "### Constraints\n",
    "* C1) Production capacity:\n",
    "$$x_1 + x_2 + x_3 + x_4 + x_5 + x_6 + x_7 \\leq 650.$$\n",
    "This constraint is saying that the total shipped quantity cannot exceed $650$ units.\n",
    "\n",
    "* C2) If ship to retailer $i$, then ship at least $50$:\n",
    "$$50 z_{i} \\leq x_i, \\quad \\forall i.$$\n",
    "These inequalities are saying that, if $z_i=1$, meaning that Ted ships at least one unit to retailer $i$, then $x_i$ must be at least $50$, meaning that Ted must ship at least $50$ units to that retailer.\n",
    "\n",
    "* C3) If no shipping to retailer $i$, then $x_i=0$:\n",
    "$$x_i \\leq d_i \\cdot z_i, \\quad \\forall i.$$\n",
    "Here, $d_i$ represents the demand of retailer $i$. These inequalities are sort of the complement of the previous ones: if $z_i=0$, meaning that Ted decided not to ship to retailer $i$, then $x_i$ must be zero, meaning that Ted must not ship any unit to that retailer."
   ]
  },
  {
   "cell_type": "markdown",
   "metadata": {},
   "source": [
    "### Objective\n",
    "The objective is to maximize total profit, which is total revenue minus penalty. \n",
    "\n",
    "The total revenue is obtained by simply multiplying the number of units shipped to each retailer by the wholesale price paid by that retailer:\n",
    "$$ \n",
    "\\text{revenue} = 47 x_1 + 65 x_2 + 70 x_3 + 68 x_4 + 46 x_5 + 78 x_6 + 55 x_7.\n",
    "$$\n",
    "For the total penalty we need to multiply the individual penalty ($20$ times the wholesale price) that Ted would pay to retailer $i$ by $1-z_i$. So we get:\n",
    "$$\n",
    "\\text{penalty} = 940 (1-z_1) + 1300 (1-z_2) + 1400 (1-z_3) + 1360 (1-z_4) + 920 (1-z_5) + 1560 (1-z_6) + 1100 (1-z_7).\n",
    "$$\n",
    "Then, if $z_1=0$, meaning that Ted does not ship to retailer $R1$, then the quantity in the brackets is $1$ and, therefore, the penalty of $20\\cdot47=940$ gets counted. On the flip side, if $z_1=1$, meaning that Ted does ship to retailer $R1$, then the quantity in the brackets is $0$ and, therefore, no penalty gets counted.\n",
    "\n",
    "Using summation, the final objective becomes:\n",
    "$$\\min{\\sum_i p_i \\cdot x_i - \\sum_i 20\\cdot p_i \\cdot (1-z_i)}.$$\n",
    "Here, $p_i$ represents the wholesale price paid by retailer $i$."
   ]
  },
  {
   "cell_type": "markdown",
   "metadata": {},
   "source": [
    "### Final Formulation\n",
    "Putting everything together, we obtain:\n",
    "$$\n",
    "\\begin{eqnarray}\n",
    "\\begin{array}{rcl}\n",
    "& \\min & \\sum_i p_i \\cdot x_i - \\sum_i 20 \\cdot p_i \\cdot (1-z_i)\\\\\n",
    "& \\text{s.t.}& \\sum_i x_{i} \\leq 650,\\\\\n",
    "&& 50 \\cdot z_{i} \\leq x_i, \\quad \\forall i,\\\\\n",
    "&& x_i \\leq d_i \\cdot z_i, \\quad \\forall i,\\\\\n",
    "&& x_{i} \\geq 0, z_i \\in \\{0, 1\\} \\quad \\forall i.\n",
    "\\end{array}\n",
    "\\end{eqnarray}\n",
    "$$"
   ]
  }
 ],
 "metadata": {
  "kernelspec": {
   "display_name": "Python 3 (ipykernel)",
   "language": "python",
   "name": "python3"
  },
  "language_info": {
   "codemirror_mode": {
    "name": "ipython",
    "version": 3
   },
   "file_extension": ".py",
   "mimetype": "text/x-python",
   "name": "python",
   "nbconvert_exporter": "python",
   "pygments_lexer": "ipython3",
   "version": "3.9.5"
  }
 },
 "nbformat": 4,
 "nbformat_minor": 2
}
