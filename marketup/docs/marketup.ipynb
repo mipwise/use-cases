{
 "cells": [
  {
   "cell_type": "markdown",
   "metadata": {},
   "source": [
    "# MarketUp Formulation\n",
    "Aug 2022. Proposed by [Rohit Karvekar](https://www.linkedin.com/in/rkarvekar/).\n",
    "\n",
    "The statement of the use case is on Mip Wise's website: \n",
    "[mipwise.com/use-cases/marketup](https://www.mipwise.com/use-cases/marketup)."
   ]
  },
  {
   "cell_type": "markdown",
   "metadata": {},
   "source": [
    "### Input Data Model\n",
    "\n",
    "#### Set of indices\n",
    "- $I$ set of marketing channels.\n",
    "\n",
    "Specifically, $I=\\{1, 2, 3, 4\\}$, where $1, 2, 3, 4$ correspond to Print, TV, SEO, and Social Media, respectively.\n",
    "\n",
    "#### Parameters\n",
    "* $r_i$ expected ROI (percentage of invested capital) from channel $i$.\n",
    "* $p_i$ expected market penetration (number of viewers per dollar invested) with channel $i$.\n",
    "* $tb$ total budget.\n",
    "* $pb$ print budget.\n",
    "* $vt$ number of viewers target.\n",
    "* $ca$ conventional channels allocation, i.e., minimum percentage of total budget allocated to Print and TV.\n",
    "\n",
    "### Decision Variables\n",
    "Since we want to maximize ROI across all the marketing channels, our decision variable is the budget allocated to each of the four marketing channels:\n",
    "* $x_i$ budget to be allocated to channel $i$.\n",
    "\n",
    "### Constraints\n",
    "- C1) *Can't exceed the total budget*:\n",
    "    $$x_1+x_2+x_3+x_4 \\leq tb.$$\n",
    "- C2) *Minimum allocation to conventional channels*:\n",
    "    $$x_1+x_2 \\geq ca \\cdot tb.$$\n",
    "- C3) *Can't exceed the print budget*:\n",
    "    $$x_1 \\leq pb.$$\n",
    "- C4) *Social Media investment must be at most three times SEO investment*:\n",
    "    $$x_4 \\leq 3 \\cdot x_3.$$\n",
    "- C5) *Reach minimum viewers target*:\n",
    "    $$p_1x_1+p_2x_2+p_3x_3+p_4x_4 \\geq vt.$$\n",
    "\n",
    "### Objective\n",
    "The goal is to maximize total ROI across all the marketing channels:\n",
    "$$\\max{r_1x_1 + r_2x_2 + r_3x_3 + r_4x_4}.$$\n",
    "\n",
    "### Final Formulation\n",
    "Putting everything together, we obtain the following linear program.\n",
    "$$\n",
    "\\begin{align}\n",
    "&\\max &\\sum_ir_ix_i \\\\\n",
    "&\\text{s.t.} &\\sum_ix_i &\\leq tb\\\\\n",
    "&&\\ x_1+x_2 &\\geq ca \\cdot tb\\\\\n",
    "&&\\ x_1 &\\leq pb\\\\\n",
    "&&\\ x_4 &\\leq 3 \\cdot x_3\\\\\n",
    "&&\\ \\sum_ip_ix_i &\\geq vt\\\\\n",
    "&&\\ x_i &\\geq 0,\\quad \\forall i.\\\\\n",
    "\\end{align}\n",
    "$$"
   ]
  }
 ],
 "metadata": {
  "kernelspec": {
   "display_name": "Python 3 (ipykernel)",
   "language": "python",
   "name": "python3"
  },
  "language_info": {
   "codemirror_mode": {
    "name": "ipython",
    "version": 3
   },
   "file_extension": ".py",
   "mimetype": "text/x-python",
   "name": "python",
   "nbconvert_exporter": "python",
   "pygments_lexer": "ipython3",
   "version": "3.9.5"
  }
 },
 "nbformat": 4,
 "nbformat_minor": 4
}
