{
 "cells": [
  {
   "cell_type": "markdown",
   "metadata": {},
   "source": [
    "# PinkPig Formulation\n",
    "The statement of the use case is on Mip Wise's website: \n",
    "[mipwise.com/use-cases/pinkpig](https://www.mipwise.com/use-cases/pinkpig).\n"
   ]
  },
  {
   "cell_type": "markdown",
   "metadata": {},
   "source": [
    "## Formulation"
   ]
  },
  {
   "cell_type": "markdown",
   "metadata": {},
   "source": [
    "### Decision Variables\n",
    "The decisions we have to make is the amount of each food that goes in the daily mix.\n",
    "- $x_1$\t- Kilograms of rice.\n",
    "- $x_2$\t- Kilograms of corn."
   ]
  },
  {
   "cell_type": "markdown",
   "metadata": {},
   "source": [
    "### Constraints\n",
    "* Minimum recommended intake of carbohydrates:\n",
    "$$0.77 x_1 + 0.66 x_2 \\geq 6.0.$$\n",
    "\n",
    "* Minimum recommended intake of protein:\n",
    "$$0.08 x_1 + 0.14 x_2 \\geq 0.9.$$\n",
    "\n",
    "* Maximum recommended intake of carbohydrates:\n",
    "$$0.77 x_1 + 0.66 x_2 \\leq 7.5.$$\n",
    "\n",
    "* Maximum recommended intake of protein:\n",
    "$$0.08 x_1 + 0.14 x_2 \\leq 1.6.$$"
   ]
  },
  {
   "cell_type": "markdown",
   "metadata": {},
   "source": [
    "### Objective\n",
    "The objective is to minimize the total cost of the diet.\n",
    "$$\\min{1.50 x_1 + 2.23 x_2}.$$"
   ]
  },
  {
   "cell_type": "markdown",
   "metadata": {},
   "source": [
    "### Final formulation\n",
    "$$\n",
    "\\begin{eqnarray}\n",
    "\\begin{array}{rcl}\n",
    "& \\min & 1.50 x_1 + 1.23 x_2\\\\\n",
    "& \\text{s.t.}& 0.77 x_1 + 0.66 x_2 \\geq 6.0,\\\\\n",
    "&& 0.08 x_1 + 0.14 x_2 \\geq 0.9,\\\\\n",
    "&& 0.77 x_1 + 0.66 x_2 \\leq 7.5,\\\\\n",
    "&& 0.08 x_1 + 0.14 x_2 \\leq 1.6,\\\\\n",
    "&& x_1, x_2 \\geq 0.\n",
    "\\end{array}\n",
    "\\end{eqnarray}\n",
    "$$"
   ]
  }
 ],
 "metadata": {
  "kernelspec": {
   "display_name": "Python 3 (ipykernel)",
   "language": "python",
   "name": "python3"
  },
  "language_info": {
   "codemirror_mode": {
    "name": "ipython",
    "version": 3
   },
   "file_extension": ".py",
   "mimetype": "text/x-python",
   "name": "python",
   "nbconvert_exporter": "python",
   "pygments_lexer": "ipython3",
   "version": "3.9.5"
  }
 },
 "nbformat": 4,
 "nbformat_minor": 2
}
