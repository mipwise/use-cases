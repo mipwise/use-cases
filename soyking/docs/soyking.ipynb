{
 "cells": [
  {
   "cell_type": "markdown",
   "metadata": {},
   "source": [
    "# SoyKing Formulation\n",
    "\n",
    "The statement of the use case is on Mip Wise's website: \n",
    "[mipwise.com/use-cases/freshly](https://www.mipwise.com/use-cases/soyking)."
   ]
  },
  {
   "cell_type": "markdown",
   "metadata": {},
   "source": [
    "### Decision Variables\n",
    "The decision variables are the tons of soybean to be carried from each farm to each DC:\n",
    "- $x_{11}$\t- Tons of soybean transfered from Farm F1 to DC D1.\n",
    "- $x_{21}$\t- Tons of soybean transfered from Farm F2 to DC D1.\n",
    "- $x_{31}$\t- Tons of soybean transfered from Farm F3 to DC D1.\n",
    "- $x_{12}$\t- Tons of soybean transfered from Farm F1 to DC D2.\n",
    "- $x_{22}$\t- Tons of soybean transfered from Farm F2 to DC D2.\n",
    "- $x_{32}$\t- Tons of soybean transfered from Farm F3 to DC D2."
   ]
  },
  {
   "cell_type": "markdown",
   "metadata": {},
   "source": [
    "### Constraints\n",
    "* Capacity of Farm F1:\n",
    "$$x_{11} + x_{12} \\leq 16.$$\n",
    "\n",
    "* Capacity of Farm F2:\n",
    "$$x_{21} + x_{22} \\leq 11.$$\n",
    "\n",
    "* Capacity of Farm F3:\n",
    "$$x_{31} + x_{32} \\leq 23.$$\n",
    "\n",
    "* Demand of DC D1:\n",
    "$$x_{11} + x_{21} + x_{31} \\geq 20.$$\n",
    "\n",
    "* Demand of DC D2:\n",
    "$$x_{12} + x_{22} + x_{32} \\geq 25.$$"
   ]
  },
  {
   "cell_type": "markdown",
   "metadata": {},
   "source": [
    "### Objective\n",
    "The objective is to minimize the total transportantion cost.\n",
    "$$\\min{500z_{11} + 66 x_{11} + 500z_{21} + 51 x_{21} + 73 x_{31} + 54 x_{12} + 82 x_{22} + 63 x_{32}}.$$"
   ]
  },
  {
   "cell_type": "markdown",
   "metadata": {},
   "source": [
    "### Final formulation\n",
    "$$\n",
    "\\begin{eqnarray}\n",
    "\\begin{array}{rcl}\n",
    "& \\min & 66 x_{11} + 51 x_{21} + 73 x_{31} + 54 x_{12} + 82 x_{22} + 63 x_{32}\\\\\n",
    "& \\text{s.t.}& x_{11} + x_{12} \\leq 16,\\\\\n",
    "&& x_{21} + x_{22} \\leq 11,\\\\\n",
    "&& x_{31} + x_{32} \\leq 23,\\\\\n",
    "&& x_{11} + x_{21} + x_{31} \\geq 20,\\\\\n",
    "&& x_{12} + x_{22} + x_{32} \\geq 25, \\\\\n",
    "&& x_{11}, x_{21}, x_{31}, x_{12}, x_{22}, x_{32} \\geq 0.\\\\\n",
    "\\end{array}\n",
    "\\end{eqnarray}\n",
    "$$"
   ]
  }
 ],
 "metadata": {
  "kernelspec": {
   "display_name": "Python 3 (ipykernel)",
   "language": "python",
   "name": "python3"
  },
  "language_info": {
   "codemirror_mode": {
    "name": "ipython",
    "version": 3
   },
   "file_extension": ".py",
   "mimetype": "text/x-python",
   "name": "python",
   "nbconvert_exporter": "python",
   "pygments_lexer": "ipython3",
   "version": "3.9.5"
  }
 },
 "nbformat": 4,
 "nbformat_minor": 4
}
